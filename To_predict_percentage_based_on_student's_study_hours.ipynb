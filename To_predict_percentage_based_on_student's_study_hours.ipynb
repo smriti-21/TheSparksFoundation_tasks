{
  "nbformat": 4,
  "nbformat_minor": 0,
  "metadata": {
    "colab": {
      "name": "To predict percentage based on student's study hours.ipynb",
      "provenance": [],
      "authorship_tag": "ABX9TyPjmqnXUOSg0kxUEjmP8sdX",
      "include_colab_link": true
    },
    "kernelspec": {
      "name": "python3",
      "display_name": "Python 3"
    }
  },
  "cells": [
    {
      "cell_type": "markdown",
      "metadata": {
        "id": "view-in-github",
        "colab_type": "text"
      },
      "source": [
        "<a href=\"https://colab.research.google.com/github/smriti-21/TheSparksFoundation_tasks/blob/main/To_predict_percentage_based_on_student's_study_hours.ipynb\" target=\"_parent\"><img src=\"https://colab.research.google.com/assets/colab-badge.svg\" alt=\"Open In Colab\"/></a>"
      ]
    },
    {
      "cell_type": "markdown",
      "metadata": {
        "id": "Yi2pJB_SMUAQ"
      },
      "source": [
        "**Problem Statement:Predict the percentage of an student based on the no. of study hours.This is a simple linear regression task as it involves just 2 variables.**\r\n",
        "\r\n"
      ]
    },
    {
      "cell_type": "markdown",
      "metadata": {
        "id": "LU0Ffd41Mfll"
      },
      "source": [
        "1. Firstly, we import all the required libraries to implement data analysis."
      ]
    },
    {
      "cell_type": "code",
      "metadata": {
        "id": "V9QN2ZxC38pB"
      },
      "source": [
        "import pandas as pd\n",
        "import numpy as np  \n",
        "import matplotlib.pyplot as plt  \n",
        "%matplotlib inline"
      ],
      "execution_count": 1,
      "outputs": []
    },
    {
      "cell_type": "markdown",
      "metadata": {
        "id": "M9SDUCzwMqyr"
      },
      "source": [
        "2. Next step is to import data. For this, we use the pandas library and read the data through the already given link in the problem statement.<br>Here is also a snippet of data which includes the first five data from the dataset."
      ]
    },
    {
      "cell_type": "code",
      "metadata": {
        "colab": {
          "base_uri": "https://localhost:8080/",
          "height": 195
        },
        "id": "kdCDt99bkDtN",
        "outputId": "3a949129-c530-43e4-99fd-7447a930e99f"
      },
      "source": [
        "link = \"http://bit.ly/w-data\"\r\n",
        "student=pd.read_csv(link)\r\n",
        "student.head()"
      ],
      "execution_count": 2,
      "outputs": [
        {
          "output_type": "execute_result",
          "data": {
            "text/html": [
              "<div>\n",
              "<style scoped>\n",
              "    .dataframe tbody tr th:only-of-type {\n",
              "        vertical-align: middle;\n",
              "    }\n",
              "\n",
              "    .dataframe tbody tr th {\n",
              "        vertical-align: top;\n",
              "    }\n",
              "\n",
              "    .dataframe thead th {\n",
              "        text-align: right;\n",
              "    }\n",
              "</style>\n",
              "<table border=\"1\" class=\"dataframe\">\n",
              "  <thead>\n",
              "    <tr style=\"text-align: right;\">\n",
              "      <th></th>\n",
              "      <th>Hours</th>\n",
              "      <th>Scores</th>\n",
              "    </tr>\n",
              "  </thead>\n",
              "  <tbody>\n",
              "    <tr>\n",
              "      <th>0</th>\n",
              "      <td>2.5</td>\n",
              "      <td>21</td>\n",
              "    </tr>\n",
              "    <tr>\n",
              "      <th>1</th>\n",
              "      <td>5.1</td>\n",
              "      <td>47</td>\n",
              "    </tr>\n",
              "    <tr>\n",
              "      <th>2</th>\n",
              "      <td>3.2</td>\n",
              "      <td>27</td>\n",
              "    </tr>\n",
              "    <tr>\n",
              "      <th>3</th>\n",
              "      <td>8.5</td>\n",
              "      <td>75</td>\n",
              "    </tr>\n",
              "    <tr>\n",
              "      <th>4</th>\n",
              "      <td>3.5</td>\n",
              "      <td>30</td>\n",
              "    </tr>\n",
              "  </tbody>\n",
              "</table>\n",
              "</div>"
            ],
            "text/plain": [
              "   Hours  Scores\n",
              "0    2.5      21\n",
              "1    5.1      47\n",
              "2    3.2      27\n",
              "3    8.5      75\n",
              "4    3.5      30"
            ]
          },
          "metadata": {
            "tags": []
          },
          "execution_count": 2
        }
      ]
    },
    {
      "cell_type": "markdown",
      "metadata": {
        "id": "5de65iKbNCJE"
      },
      "source": [
        "3. In this step, we have plotted the scatter graoph to manually find the scores' dependency on number of study hours."
      ]
    },
    {
      "cell_type": "code",
      "metadata": {
        "colab": {
          "base_uri": "https://localhost:8080/",
          "height": 295
        },
        "id": "wibZAeLOkQ6Z",
        "outputId": "959d4aa5-5a9a-4c12-db28-f5cef1101343"
      },
      "source": [
        "student.plot(x='Hours',y='Scores',style='o')\r\n",
        "plt.title(\"Student data: hours vs percentage\")\r\n",
        "plt.xlabel('Hours studied')\r\n",
        "plt.ylabel('Percentage score')\r\n",
        "plt.show()"
      ],
      "execution_count": 3,
      "outputs": [
        {
          "output_type": "display_data",
          "data": {
            "image/png": "[encoded data removed]",
            "text/plain": [
              "<Figure size 432x288 with 1 Axes>"
            ]
          },
          "metadata": {
            "tags": [],
            "needs_background": "light"
          }
        }
      ]
    },
    {
      "cell_type": "markdown",
      "metadata": {
        "id": "Gf_E3cIHNWoD"
      },
      "source": [
        "Here, we can conclude that there is a linear relation between the score and the percentage and thus Linear Regression will be implemented."
      ]
    },
    {
      "cell_type": "markdown",
      "metadata": {
        "id": "Ddon77EuNjvK"
      },
      "source": [
        "4. Now, it's the time to prepare our data. We first divide the data into attributes and labels."
      ]
    },
    {
      "cell_type": "code",
      "metadata": {
        "id": "-tP6EtdGJS8z"
      },
      "source": [
        "X = student.iloc[:, :-1].values\r\n",
        "Y = student.iloc[:,1].values"
      ],
      "execution_count": 5,
      "outputs": []
    },
    {
      "cell_type": "markdown",
      "metadata": {
        "id": "9zhaDlpSNsG5"
      },
      "source": [
        "5. Now, we divide the data into training and testing data sets. test_size=0.2 divide the data into 80/20. We perform the operation using sklearn train_test_split method."
      ]
    },
    {
      "cell_type": "code",
      "metadata": {
        "id": "Vym2oI8hJlPU"
      },
      "source": [
        "from sklearn.model_selection import train_test_split\r\n",
        "X_train, X_test, Y_train, Y_test = train_test_split(X,Y,test_size=0.2,\r\n",
        "random_state=0)"
      ],
      "execution_count": 8,
      "outputs": []
    },
    {
      "cell_type": "markdown",
      "metadata": {
        "id": "dbJ4JBWTOAaf"
      },
      "source": [
        "6. Now, we implement the Linear Regression and thus plot the graph to display the trained linear relation between the hours and percentage."
      ]
    },
    {
      "cell_type": "code",
      "metadata": {
        "colab": {
          "base_uri": "https://localhost:8080/"
        },
        "id": "RG4MNbPXJ-gf",
        "outputId": "aee02f3f-6bc3-42e6-cce1-5703f87855a6"
      },
      "source": [
        "from sklearn.linear_model import LinearRegression\r\n",
        "regressor = LinearRegression()\r\n",
        "regressor.fit(X_train,Y_train)\r\n",
        "\r\n",
        "print(\"Training done\")"
      ],
      "execution_count": 9,
      "outputs": [
        {
          "output_type": "stream",
          "text": [
            "Training done\n"
          ],
          "name": "stdout"
        }
      ]
    },
    {
      "cell_type": "code",
      "metadata": {
        "colab": {
          "base_uri": "https://localhost:8080/",
          "height": 265
        },
        "id": "LPU8ZTzcKQZP",
        "outputId": "58e89016-b6f9-4d54-b54a-104bdd317d3b"
      },
      "source": [
        "line = regressor.coef_*X+regressor.intercept_\r\n",
        "plt.scatter(X,Y)\r\n",
        "plt.plot(X,line)\r\n",
        "plt.show()"
      ],
      "execution_count": 10,
      "outputs": [
        {
          "output_type": "display_data",
          "data": {
            "image/png": "[encoded data removed]",
            "text/plain": [
              "<Figure size 432x288 with 1 Axes>"
            ]
          },
          "metadata": {
            "tags": [],
            "needs_background": "light"
          }
        }
      ]
    },
    {
      "cell_type": "markdown",
      "metadata": {
        "id": "RD81Zc2HOSGk"
      },
      "source": [
        "7. In this step, we predict the values based on our trained model and display a comparison table between the actual data and the predicted data. "
      ]
    },
    {
      "cell_type": "code",
      "metadata": {
        "colab": {
          "base_uri": "https://localhost:8080/",
          "height": 279
        },
        "id": "p-GM87y8Kh6c",
        "outputId": "bc889da3-4780-4459-8f23-66e954c2ac2d"
      },
      "source": [
        "print(X_test)\r\n",
        "Y_pred = regressor.predict(X_test)\r\n",
        "df=pd.DataFrame({'Actual':Y_test, 'Predicted':Y_pred})\r\n",
        "df"
      ],
      "execution_count": 11,
      "outputs": [
        {
          "output_type": "stream",
          "text": [
            "[[1.5]\n",
            " [3.2]\n",
            " [7.4]\n",
            " [2.5]\n",
            " [5.9]]\n"
          ],
          "name": "stdout"
        },
        {
          "output_type": "execute_result",
          "data": {
            "text/html": [
              "<div>\n",
              "<style scoped>\n",
              "    .dataframe tbody tr th:only-of-type {\n",
              "        vertical-align: middle;\n",
              "    }\n",
              "\n",
              "    .dataframe tbody tr th {\n",
              "        vertical-align: top;\n",
              "    }\n",
              "\n",
              "    .dataframe thead th {\n",
              "        text-align: right;\n",
              "    }\n",
              "</style>\n",
              "<table border=\"1\" class=\"dataframe\">\n",
              "  <thead>\n",
              "    <tr style=\"text-align: right;\">\n",
              "      <th></th>\n",
              "      <th>Actual</th>\n",
              "      <th>Predicted</th>\n",
              "    </tr>\n",
              "  </thead>\n",
              "  <tbody>\n",
              "    <tr>\n",
              "      <th>0</th>\n",
              "      <td>20</td>\n",
              "      <td>16.884145</td>\n",
              "    </tr>\n",
              "    <tr>\n",
              "      <th>1</th>\n",
              "      <td>27</td>\n",
              "      <td>33.732261</td>\n",
              "    </tr>\n",
              "    <tr>\n",
              "      <th>2</th>\n",
              "      <td>69</td>\n",
              "      <td>75.357018</td>\n",
              "    </tr>\n",
              "    <tr>\n",
              "      <th>3</th>\n",
              "      <td>30</td>\n",
              "      <td>26.794801</td>\n",
              "    </tr>\n",
              "    <tr>\n",
              "      <th>4</th>\n",
              "      <td>62</td>\n",
              "      <td>60.491033</td>\n",
              "    </tr>\n",
              "  </tbody>\n",
              "</table>\n",
              "</div>"
            ],
            "text/plain": [
              "   Actual  Predicted\n",
              "0      20  16.884145\n",
              "1      27  33.732261\n",
              "2      69  75.357018\n",
              "3      30  26.794801\n",
              "4      62  60.491033"
            ]
          },
          "metadata": {
            "tags": []
          },
          "execution_count": 11
        }
      ]
    },
    {
      "cell_type": "markdown",
      "metadata": {
        "id": "3o85qiYWOkbz"
      },
      "source": [
        "Here, the predicted value for 9.25 hours(which was the question) is around 93.69%."
      ]
    },
    {
      "cell_type": "code",
      "metadata": {
        "colab": {
          "base_uri": "https://localhost:8080/"
        },
        "id": "_TqLzrVYK4oC",
        "outputId": "52ec835b-014c-419a-c89a-d15085fba248"
      },
      "source": [
        "hours = [[9.25]]\r\n",
        "own_pred = regressor.predict(hours)\r\n",
        "print(\"No of Hours = {}\".format(hours[0]))\r\n",
        "print(\"Predicted Score = {}\".format(own_pred[0]))"
      ],
      "execution_count": 17,
      "outputs": [
        {
          "output_type": "stream",
          "text": [
            "No of Hours = [9.25]\n",
            "Predicted Score = 93.69173248737539\n"
          ],
          "name": "stdout"
        }
      ]
    },
    {
      "cell_type": "markdown",
      "metadata": {
        "id": "WL5SNs_tO7wj"
      },
      "source": [
        "We know that an error basically is the absolute difference between the actual or true values and the values that are predicted. Absolute difference means that if the result has a negative sign, it is ignored.\r\n",
        "\r\n",
        "Hence, MAE = True values – Predicted values\r\n",
        "\r\n",
        "MAE takes the average of this error from every sample in a dataset and gives the output."
      ]
    },
    {
      "cell_type": "code",
      "metadata": {
        "colab": {
          "base_uri": "https://localhost:8080/"
        },
        "id": "JU3g1_K_L5pj",
        "outputId": "9edabae2-5148-4832-81e6-814edd10f520"
      },
      "source": [
        "from sklearn import metrics  \r\n",
        "print('Mean Absolute Error:', \r\n",
        "      metrics.mean_absolute_error(Y_test, Y_pred)) "
      ],
      "execution_count": 18,
      "outputs": [
        {
          "output_type": "stream",
          "text": [
            "Mean Absolute Error: 4.183859899002982\n"
          ],
          "name": "stdout"
        }
      ]
    }
  ]
}